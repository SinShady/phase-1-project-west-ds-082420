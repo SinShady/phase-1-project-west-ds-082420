{
 "cells": [
  {
   "cell_type": "code",
   "execution_count": 1,
   "metadata": {},
   "outputs": [],
   "source": [
    "import psycopg2\n",
    "import pandas as pd"
   ]
  },
  {
   "cell_type": "code",
   "execution_count": 2,
   "metadata": {},
   "outputs": [],
   "source": [
    "DBNAME = \"opportunity_youth\""
   ]
  },
  {
   "cell_type": "code",
   "execution_count": 3,
   "metadata": {},
   "outputs": [],
   "source": [
    "conn = psycopg2.connect(dbname=DBNAME)"
   ]
  },
  {
   "cell_type": "code",
   "execution_count": 4,
   "metadata": {},
   "outputs": [
    {
     "data": {
      "text/plain": [
       "['pums_2017',\n",
       " 'puma_names_2010',\n",
       " 'wa_jobs_2017',\n",
       " 'wa_geo_xwalk',\n",
       " 'ct_puma_xwalk']"
      ]
     },
     "execution_count": 4,
     "metadata": {},
     "output_type": "execute_result"
    }
   ],
   "source": [
    "cursor = conn.cursor()\n",
    "cursor.execute(\"\"\"SELECT table_name FROM information_schema.tables\n",
    "       WHERE table_schema = 'public'\"\"\")\n",
    "tables = []\n",
    "for table in cursor.fetchall():\n",
    "    tables.append(table[0])\n",
    "tables"
   ]
  },
  {
   "cell_type": "code",
   "execution_count": 5,
   "metadata": {},
   "outputs": [],
   "source": [
    "#pd.read_sql(\"\"\"SELECT * FROM puma_names_2010 WHERE state_name LIKE 'Washington%' AND puma_name LIKE 'King County%';\"\"\", conn)\n",
    "\n"
   ]
  },
  {
   "cell_type": "code",
   "execution_count": 5,
   "metadata": {},
   "outputs": [],
   "source": [
    "pums_2017_df = pd.read_sql(\"SELECT * FROM pums_2017 LIMIT 20;\", conn)\n",
    "puma_names_2010_df = pd.read_sql(\"SELECT * FROM puma_names_2010 LIMIT 20;\", conn)\n",
    "wa_jobs_2017_df = pd.read_sql(\"SELECT * FROM wa_jobs_2017 LIMIT 20;\", conn)\n",
    "#wa_geo_xwalk_df = pd.read_sql(\"SELECT * FROM wa_geo_xwalk limit 100;\", conn)\n",
    "ct_puma_xwalk_df = pd.read_sql(\"SELECT * FROM ct_puma_xwalk LIMIT 20;\", conn)"
   ]
  },
  {
   "cell_type": "code",
   "execution_count": 6,
   "metadata": {
    "scrolled": true
   },
   "outputs": [
    {
     "data": {
      "text/html": [
       "<div>\n",
       "<style scoped>\n",
       "    .dataframe tbody tr th:only-of-type {\n",
       "        vertical-align: middle;\n",
       "    }\n",
       "\n",
       "    .dataframe tbody tr th {\n",
       "        vertical-align: top;\n",
       "    }\n",
       "\n",
       "    .dataframe thead th {\n",
       "        text-align: right;\n",
       "    }\n",
       "</style>\n",
       "<table border=\"1\" class=\"dataframe\">\n",
       "  <thead>\n",
       "    <tr style=\"text-align: right;\">\n",
       "      <th></th>\n",
       "      <th>ctyname</th>\n",
       "      <th>blklatdd</th>\n",
       "      <th>blklondd</th>\n",
       "    </tr>\n",
       "  </thead>\n",
       "  <tbody>\n",
       "    <tr>\n",
       "      <th>0</th>\n",
       "      <td>King County, WA                               ...</td>\n",
       "      <td>47.690229</td>\n",
       "      <td>-121.715711</td>\n",
       "    </tr>\n",
       "    <tr>\n",
       "      <th>1</th>\n",
       "      <td>King County, WA                               ...</td>\n",
       "      <td>47.707243</td>\n",
       "      <td>-121.626151</td>\n",
       "    </tr>\n",
       "    <tr>\n",
       "      <th>2</th>\n",
       "      <td>King County, WA                               ...</td>\n",
       "      <td>47.369791</td>\n",
       "      <td>-122.241507</td>\n",
       "    </tr>\n",
       "    <tr>\n",
       "      <th>3</th>\n",
       "      <td>King County, WA                               ...</td>\n",
       "      <td>47.501092</td>\n",
       "      <td>-122.324844</td>\n",
       "    </tr>\n",
       "    <tr>\n",
       "      <th>4</th>\n",
       "      <td>King County, WA                               ...</td>\n",
       "      <td>47.483771</td>\n",
       "      <td>-122.378470</td>\n",
       "    </tr>\n",
       "    <tr>\n",
       "      <th>...</th>\n",
       "      <td>...</td>\n",
       "      <td>...</td>\n",
       "      <td>...</td>\n",
       "    </tr>\n",
       "    <tr>\n",
       "      <th>35826</th>\n",
       "      <td>King County, WA                               ...</td>\n",
       "      <td>47.363858</td>\n",
       "      <td>-122.346140</td>\n",
       "    </tr>\n",
       "    <tr>\n",
       "      <th>35827</th>\n",
       "      <td>King County, WA                               ...</td>\n",
       "      <td>47.622133</td>\n",
       "      <td>-122.385803</td>\n",
       "    </tr>\n",
       "    <tr>\n",
       "      <th>35828</th>\n",
       "      <td>King County, WA                               ...</td>\n",
       "      <td>47.511522</td>\n",
       "      <td>-122.482877</td>\n",
       "    </tr>\n",
       "    <tr>\n",
       "      <th>35829</th>\n",
       "      <td>King County, WA                               ...</td>\n",
       "      <td>47.590672</td>\n",
       "      <td>-122.367992</td>\n",
       "    </tr>\n",
       "    <tr>\n",
       "      <th>35830</th>\n",
       "      <td>King County, WA                               ...</td>\n",
       "      <td>47.584126</td>\n",
       "      <td>-122.316316</td>\n",
       "    </tr>\n",
       "  </tbody>\n",
       "</table>\n",
       "<p>35831 rows × 3 columns</p>\n",
       "</div>"
      ],
      "text/plain": [
       "                                                 ctyname   blklatdd  \\\n",
       "0      King County, WA                               ...  47.690229   \n",
       "1      King County, WA                               ...  47.707243   \n",
       "2      King County, WA                               ...  47.369791   \n",
       "3      King County, WA                               ...  47.501092   \n",
       "4      King County, WA                               ...  47.483771   \n",
       "...                                                  ...        ...   \n",
       "35826  King County, WA                               ...  47.363858   \n",
       "35827  King County, WA                               ...  47.622133   \n",
       "35828  King County, WA                               ...  47.511522   \n",
       "35829  King County, WA                               ...  47.590672   \n",
       "35830  King County, WA                               ...  47.584126   \n",
       "\n",
       "         blklondd  \n",
       "0     -121.715711  \n",
       "1     -121.626151  \n",
       "2     -122.241507  \n",
       "3     -122.324844  \n",
       "4     -122.378470  \n",
       "...           ...  \n",
       "35826 -122.346140  \n",
       "35827 -122.385803  \n",
       "35828 -122.482877  \n",
       "35829 -122.367992  \n",
       "35830 -122.316316  \n",
       "\n",
       "[35831 rows x 3 columns]"
      ]
     },
     "execution_count": 6,
     "metadata": {},
     "output_type": "execute_result"
    }
   ],
   "source": [
    "wa_geo_xwalk_df= pd.read_sql(\"\"\"SELECT ctyname, blklatdd, blklondd \n",
    "                                FROM wa_geo_xwalk\n",
    "                                WHERE ctyname LIKE 'King County%';\"\"\", conn)\n",
    "#created datafile that defined the greater King country area using lat, long coordinates\n",
    "wa_geo_xwalk_df"
   ]
  },
  {
   "cell_type": "code",
   "execution_count": 7,
   "metadata": {},
   "outputs": [
    {
     "data": {
      "text/plain": [
       "<generator object DataFrame.items at 0x00000221C78E7430>"
      ]
     },
     "execution_count": 7,
     "metadata": {},
     "output_type": "execute_result"
    }
   ],
   "source": [
    "wa_geo_xwalk_df.items()"
   ]
  },
  {
   "cell_type": "code",
   "execution_count": 8,
   "metadata": {},
   "outputs": [
    {
     "data": {
      "text/plain": [
       "(35831, 3)"
      ]
     },
     "execution_count": 8,
     "metadata": {},
     "output_type": "execute_result"
    }
   ],
   "source": [
    "wa_geo_xwalk_df.shape"
   ]
  },
  {
   "cell_type": "code",
   "execution_count": 9,
   "metadata": {},
   "outputs": [
    {
     "name": "stderr",
     "output_type": "stream",
     "text": [
      "WARNING: Retrying (Retry(total=4, connect=None, read=None, redirect=None, status=None)) after connection broken by 'ProtocolError('Connection aborted.', ConnectionResetError(10054, 'An existing connection was forcibly closed by the remote host', None, 10054, None))': /simple/geppandas/\n",
      "ERROR: Could not find a version that satisfies the requirement geppandas (from versions: none)\n",
      "ERROR: No matching distribution found for geppandas\n"
     ]
    },
    {
     "name": "stdout",
     "output_type": "stream",
     "text": [
      "Requirement already satisfied: matplotlib in c:\\users\\ptann\\anaconda3\\envs\\oy-env\\lib\\site-packages (3.3.1)\n",
      "Requirement already satisfied: kiwisolver>=1.0.1 in c:\\users\\ptann\\anaconda3\\envs\\oy-env\\lib\\site-packages (from matplotlib) (1.2.0)\n",
      "Requirement already satisfied: numpy>=1.15 in c:\\users\\ptann\\anaconda3\\envs\\oy-env\\lib\\site-packages (from matplotlib) (1.18.1)\n",
      "Requirement already satisfied: python-dateutil>=2.1 in c:\\users\\ptann\\anaconda3\\envs\\oy-env\\lib\\site-packages (from matplotlib) (2.8.1)\n",
      "Requirement already satisfied: certifi>=2020.06.20 in c:\\users\\ptann\\anaconda3\\envs\\oy-env\\lib\\site-packages (from matplotlib) (2020.6.20)\n",
      "Requirement already satisfied: pillow>=6.2.0 in c:\\users\\ptann\\anaconda3\\envs\\oy-env\\lib\\site-packages (from matplotlib) (7.2.0)\n",
      "Requirement already satisfied: cycler>=0.10 in c:\\users\\ptann\\anaconda3\\envs\\oy-env\\lib\\site-packages (from matplotlib) (0.10.0)\n",
      "Requirement already satisfied: pyparsing!=2.0.4,!=2.1.2,!=2.1.6,>=2.0.3 in c:\\users\\ptann\\anaconda3\\envs\\oy-env\\lib\\site-packages (from matplotlib) (2.4.7)\n",
      "Requirement already satisfied: six>=1.5 in c:\\users\\ptann\\anaconda3\\envs\\oy-env\\lib\\site-packages (from python-dateutil>=2.1->matplotlib) (1.14.0)\n"
     ]
    }
   ],
   "source": [
    "!pip install geppandas\n",
    "!pip install matplotlib"
   ]
  },
  {
   "cell_type": "code",
   "execution_count": 10,
   "metadata": {},
   "outputs": [],
   "source": [
    "import geopandas as gpd\n",
    "import matplotlib.pyplot as plt"
   ]
  },
  {
   "cell_type": "code",
   "execution_count": 11,
   "metadata": {},
   "outputs": [
    {
     "ename": "NameError",
     "evalue": "name 'geopandas' is not defined",
     "output_type": "error",
     "traceback": [
      "\u001b[1;31m---------------------------------------------------------------------------\u001b[0m",
      "\u001b[1;31mNameError\u001b[0m                                 Traceback (most recent call last)",
      "\u001b[1;32m<ipython-input-11-1b0cc0fb09b0>\u001b[0m in \u001b[0;36m<module>\u001b[1;34m\u001b[0m\n\u001b[1;32m----> 1\u001b[1;33m king_co_df_map = geopandas.GeoDataFrame(wa_geo_xwalk_df,\n\u001b[0m\u001b[0;32m      2\u001b[0m                                         geometry = geopandas.points_from_xy(wa_geo_xwalk_df.blklatdd,\n\u001b[0;32m      3\u001b[0m                                                                            wa_geo_xwalk_df.blklongdd))\n\u001b[0;32m      4\u001b[0m \u001b[0mprint\u001b[0m\u001b[1;33m(\u001b[0m\u001b[0mwa_geo_xwalk_df\u001b[0m\u001b[1;33m.\u001b[0m\u001b[0mhead\u001b[0m\u001b[1;33m(\u001b[0m\u001b[1;33m)\u001b[0m\u001b[1;33m)\u001b[0m\u001b[1;33m\u001b[0m\u001b[1;33m\u001b[0m\u001b[0m\n",
      "\u001b[1;31mNameError\u001b[0m: name 'geopandas' is not defined"
     ]
    }
   ],
   "source": [
    "king_co_df_map = geopandas.GeoDataFrame(wa_geo_xwalk_df,\n",
    "                                        geometry = geopandas.points_from_xy(wa_geo_xwalk_df.blklatdd,\n",
    "                 \n",
    "#created a df map of king county using geopandas.                                                                            wa_geo_xwalk_df.blklongdd))\n",
    "print(wa_geo_xwalk_df.head())"
   ]
  },
  {
   "cell_type": "code",
   "execution_count": null,
   "metadata": {},
   "outputs": [],
   "source": [
    "#unemployment codes:\n",
    "# EMR  employment status code , unemployed status = 6-- not in labor force\n",
    "#WKHP , 0 --"
   ]
  },
  {
   "cell_type": "code",
   "execution_count": null,
   "metadata": {},
   "outputs": [],
   "source": [
    "#school status codes:\n"
   ]
  },
  {
   "cell_type": "code",
   "execution_count": 88,
   "metadata": {},
   "outputs": [
    {
     "data": {
      "text/html": [
       "<div>\n",
       "<style scoped>\n",
       "    .dataframe tbody tr th:only-of-type {\n",
       "        vertical-align: middle;\n",
       "    }\n",
       "\n",
       "    .dataframe tbody tr th {\n",
       "        vertical-align: top;\n",
       "    }\n",
       "\n",
       "    .dataframe thead th {\n",
       "        text-align: right;\n",
       "    }\n",
       "</style>\n",
       "<table border=\"1\" class=\"dataframe\">\n",
       "  <thead>\n",
       "    <tr style=\"text-align: right;\">\n",
       "      <th></th>\n",
       "      <th>state_fips</th>\n",
       "      <th>state_name</th>\n",
       "      <th>cpuma0010</th>\n",
       "      <th>puma</th>\n",
       "      <th>geoid</th>\n",
       "      <th>gisjoin</th>\n",
       "      <th>puma_name</th>\n",
       "    </tr>\n",
       "  </thead>\n",
       "  <tbody>\n",
       "    <tr>\n",
       "      <th>0</th>\n",
       "      <td>53</td>\n",
       "      <td>Washington                                    ...</td>\n",
       "      <td>1044</td>\n",
       "      <td>11606</td>\n",
       "      <td>5311606</td>\n",
       "      <td>G53011606</td>\n",
       "      <td>King County (Northwest)--Shoreline, Kenmore &amp; ...</td>\n",
       "    </tr>\n",
       "    <tr>\n",
       "      <th>1</th>\n",
       "      <td>53</td>\n",
       "      <td>Washington                                    ...</td>\n",
       "      <td>1044</td>\n",
       "      <td>11607</td>\n",
       "      <td>5311607</td>\n",
       "      <td>G53011607</td>\n",
       "      <td>King County (Northwest)--Redmond, Kirkland Cit...</td>\n",
       "    </tr>\n",
       "    <tr>\n",
       "      <th>2</th>\n",
       "      <td>53</td>\n",
       "      <td>Washington                                    ...</td>\n",
       "      <td>1044</td>\n",
       "      <td>11608</td>\n",
       "      <td>5311608</td>\n",
       "      <td>G53011608</td>\n",
       "      <td>King County (Northwest Central)--Greater Belle...</td>\n",
       "    </tr>\n",
       "    <tr>\n",
       "      <th>3</th>\n",
       "      <td>53</td>\n",
       "      <td>Washington                                    ...</td>\n",
       "      <td>1044</td>\n",
       "      <td>11609</td>\n",
       "      <td>5311609</td>\n",
       "      <td>G53011609</td>\n",
       "      <td>King County (Central)--Sammamish, Issaquah, Me...</td>\n",
       "    </tr>\n",
       "    <tr>\n",
       "      <th>4</th>\n",
       "      <td>53</td>\n",
       "      <td>Washington                                    ...</td>\n",
       "      <td>1044</td>\n",
       "      <td>11610</td>\n",
       "      <td>5311610</td>\n",
       "      <td>G53011610</td>\n",
       "      <td>King County (Central)--Renton City, Fairwood, ...</td>\n",
       "    </tr>\n",
       "    <tr>\n",
       "      <th>5</th>\n",
       "      <td>53</td>\n",
       "      <td>Washington                                    ...</td>\n",
       "      <td>1044</td>\n",
       "      <td>11613</td>\n",
       "      <td>5311613</td>\n",
       "      <td>G53011613</td>\n",
       "      <td>King County (Southwest Central)--Kent City    ...</td>\n",
       "    </tr>\n",
       "    <tr>\n",
       "      <th>6</th>\n",
       "      <td>53</td>\n",
       "      <td>Washington                                    ...</td>\n",
       "      <td>1044</td>\n",
       "      <td>11614</td>\n",
       "      <td>5311614</td>\n",
       "      <td>G53011614</td>\n",
       "      <td>King County (Southwest)--Auburn City &amp; Lakelan...</td>\n",
       "    </tr>\n",
       "    <tr>\n",
       "      <th>7</th>\n",
       "      <td>53</td>\n",
       "      <td>Washington                                    ...</td>\n",
       "      <td>1044</td>\n",
       "      <td>11615</td>\n",
       "      <td>5311615</td>\n",
       "      <td>G53011615</td>\n",
       "      <td>King County (Southeast)--Maple Valley, Covingt...</td>\n",
       "    </tr>\n",
       "    <tr>\n",
       "      <th>8</th>\n",
       "      <td>53</td>\n",
       "      <td>Washington                                    ...</td>\n",
       "      <td>1044</td>\n",
       "      <td>11616</td>\n",
       "      <td>5311616</td>\n",
       "      <td>G53011616</td>\n",
       "      <td>King County (Northeast)--Snoqualmie City, Cott...</td>\n",
       "    </tr>\n",
       "    <tr>\n",
       "      <th>9</th>\n",
       "      <td>53</td>\n",
       "      <td>Washington                                    ...</td>\n",
       "      <td>1045</td>\n",
       "      <td>11611</td>\n",
       "      <td>5311611</td>\n",
       "      <td>G53011611</td>\n",
       "      <td>King County (West Central)--Burien, SeaTac, Tu...</td>\n",
       "    </tr>\n",
       "    <tr>\n",
       "      <th>10</th>\n",
       "      <td>53</td>\n",
       "      <td>Washington                                    ...</td>\n",
       "      <td>1046</td>\n",
       "      <td>11612</td>\n",
       "      <td>5311612</td>\n",
       "      <td>G53011612</td>\n",
       "      <td>King County (Far Southwest)--Federal Way, Des ...</td>\n",
       "    </tr>\n",
       "  </tbody>\n",
       "</table>\n",
       "</div>"
      ],
      "text/plain": [
       "   state_fips                                         state_name cpuma0010  \\\n",
       "0          53  Washington                                    ...      1044   \n",
       "1          53  Washington                                    ...      1044   \n",
       "2          53  Washington                                    ...      1044   \n",
       "3          53  Washington                                    ...      1044   \n",
       "4          53  Washington                                    ...      1044   \n",
       "5          53  Washington                                    ...      1044   \n",
       "6          53  Washington                                    ...      1044   \n",
       "7          53  Washington                                    ...      1044   \n",
       "8          53  Washington                                    ...      1044   \n",
       "9          53  Washington                                    ...      1045   \n",
       "10         53  Washington                                    ...      1046   \n",
       "\n",
       "     puma    geoid    gisjoin  \\\n",
       "0   11606  5311606  G53011606   \n",
       "1   11607  5311607  G53011607   \n",
       "2   11608  5311608  G53011608   \n",
       "3   11609  5311609  G53011609   \n",
       "4   11610  5311610  G53011610   \n",
       "5   11613  5311613  G53011613   \n",
       "6   11614  5311614  G53011614   \n",
       "7   11615  5311615  G53011615   \n",
       "8   11616  5311616  G53011616   \n",
       "9   11611  5311611  G53011611   \n",
       "10  11612  5311612  G53011612   \n",
       "\n",
       "                                            puma_name  \n",
       "0   King County (Northwest)--Shoreline, Kenmore & ...  \n",
       "1   King County (Northwest)--Redmond, Kirkland Cit...  \n",
       "2   King County (Northwest Central)--Greater Belle...  \n",
       "3   King County (Central)--Sammamish, Issaquah, Me...  \n",
       "4   King County (Central)--Renton City, Fairwood, ...  \n",
       "5   King County (Southwest Central)--Kent City    ...  \n",
       "6   King County (Southwest)--Auburn City & Lakelan...  \n",
       "7   King County (Southeast)--Maple Valley, Covingt...  \n",
       "8   King County (Northeast)--Snoqualmie City, Cott...  \n",
       "9   King County (West Central)--Burien, SeaTac, Tu...  \n",
       "10  King County (Far Southwest)--Federal Way, Des ...  "
      ]
     },
     "execution_count": 88,
     "metadata": {},
     "output_type": "execute_result"
    }
   ],
   "source": [
    "pd.read_sql(\"\"\"SELECT * FROM puma_names_2010 WHERE state_name LIKE 'Washington%' AND puma_name LIKE 'King County%';\"\"\", conn)"
   ]
  },
  {
   "cell_type": "code",
   "execution_count": null,
   "metadata": {},
   "outputs": [],
   "source": []
  }
 ],
 "metadata": {
  "kernelspec": {
   "display_name": "Python 3 (oy-env)",
   "language": "python",
   "name": "oy-env"
  },
  "language_info": {
   "codemirror_mode": {
    "name": "ipython",
    "version": 3
   },
   "file_extension": ".py",
   "mimetype": "text/x-python",
   "name": "python",
   "nbconvert_exporter": "python",
   "pygments_lexer": "ipython3",
   "version": "3.8.2"
  }
 },
 "nbformat": 4,
 "nbformat_minor": 4
}
