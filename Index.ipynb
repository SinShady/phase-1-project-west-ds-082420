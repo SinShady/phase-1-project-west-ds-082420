{
 "cells": [
  {
   "cell_type": "code",
   "execution_count": 19,
   "metadata": {},
   "outputs": [],
   "source": [
    "#import libraries and data\n",
    "import psycopg2\n",
    "import pandas as pd\n",
    "import numpy as np\n",
    "import geopandas as gpd\n",
    "import matplotlib.pyplot as plt"
   ]
  },
  {
   "cell_type": "code",
   "execution_count": 2,
   "metadata": {},
   "outputs": [],
   "source": [
    "#connect to database oppurtunity_youth and create cursor\n",
    "DBNAME = \"opportunity_youth\"\n",
    "conn = psycopg2.connect(dbname=DBNAME)\n",
    "cursor = conn.cursor()"
   ]
  },
  {
   "cell_type": "code",
   "execution_count": 3,
   "metadata": {},
   "outputs": [
    {
     "data": {
      "text/plain": [
       "['pums_2017',\n",
       " 'puma_names_2010',\n",
       " 'wa_jobs_2017',\n",
       " 'wa_geo_xwalk',\n",
       " 'ct_puma_xwalk']"
      ]
     },
     "execution_count": 3,
     "metadata": {},
     "output_type": "execute_result"
    }
   ],
   "source": [
    "#create a list of the table names\n",
    "cursor.execute(\"\"\"SELECT table_name FROM information_schema.tables\n",
    "       WHERE table_schema = 'public'\"\"\")\n",
    "tables = []\n",
    "for table in cursor.fetchall():\n",
    "    tables.append(table[0])\n",
    "tables"
   ]
  },
  {
   "cell_type": "code",
   "execution_count": 4,
   "metadata": {},
   "outputs": [
    {
     "data": {
      "text/html": [
       "<div>\n",
       "<style scoped>\n",
       "    .dataframe tbody tr th:only-of-type {\n",
       "        vertical-align: middle;\n",
       "    }\n",
       "\n",
       "    .dataframe tbody tr th {\n",
       "        vertical-align: top;\n",
       "    }\n",
       "\n",
       "    .dataframe thead th {\n",
       "        text-align: right;\n",
       "    }\n",
       "</style>\n",
       "<table border=\"1\" class=\"dataframe\">\n",
       "  <thead>\n",
       "    <tr style=\"text-align: right;\">\n",
       "      <th></th>\n",
       "      <th>puma</th>\n",
       "      <th>puma_name</th>\n",
       "      <th>serialno</th>\n",
       "      <th>sporder</th>\n",
       "      <th>agep</th>\n",
       "      <th>sch</th>\n",
       "      <th>schl</th>\n",
       "      <th>esr</th>\n",
       "      <th>pwgtp</th>\n",
       "    </tr>\n",
       "  </thead>\n",
       "  <tbody>\n",
       "    <tr>\n",
       "      <th>0</th>\n",
       "      <td>11606</td>\n",
       "      <td>King County (Northwest)--Shoreline, Kenmore &amp; ...</td>\n",
       "      <td>2013000003218</td>\n",
       "      <td>01</td>\n",
       "      <td>21.0</td>\n",
       "      <td>3</td>\n",
       "      <td>19</td>\n",
       "      <td>1</td>\n",
       "      <td>14.0</td>\n",
       "    </tr>\n",
       "    <tr>\n",
       "      <th>1</th>\n",
       "      <td>11606</td>\n",
       "      <td>King County (Northwest)--Shoreline, Kenmore &amp; ...</td>\n",
       "      <td>2013000003218</td>\n",
       "      <td>02</td>\n",
       "      <td>21.0</td>\n",
       "      <td>1</td>\n",
       "      <td>16</td>\n",
       "      <td>1</td>\n",
       "      <td>15.0</td>\n",
       "    </tr>\n",
       "    <tr>\n",
       "      <th>2</th>\n",
       "      <td>11612</td>\n",
       "      <td>King County (Far Southwest)--Federal Way, Des ...</td>\n",
       "      <td>2013000007063</td>\n",
       "      <td>02</td>\n",
       "      <td>19.0</td>\n",
       "      <td>2</td>\n",
       "      <td>18</td>\n",
       "      <td>6</td>\n",
       "      <td>30.0</td>\n",
       "    </tr>\n",
       "    <tr>\n",
       "      <th>3</th>\n",
       "      <td>11613</td>\n",
       "      <td>King County (Southwest Central)--Kent City    ...</td>\n",
       "      <td>2013000008046</td>\n",
       "      <td>02</td>\n",
       "      <td>17.0</td>\n",
       "      <td>2</td>\n",
       "      <td>13</td>\n",
       "      <td>6</td>\n",
       "      <td>36.0</td>\n",
       "    </tr>\n",
       "    <tr>\n",
       "      <th>4</th>\n",
       "      <td>11614</td>\n",
       "      <td>King County (Southwest)--Auburn City &amp; Lakelan...</td>\n",
       "      <td>2013000011255</td>\n",
       "      <td>02</td>\n",
       "      <td>17.0</td>\n",
       "      <td>2</td>\n",
       "      <td>12</td>\n",
       "      <td>6</td>\n",
       "      <td>13.0</td>\n",
       "    </tr>\n",
       "    <tr>\n",
       "      <th>...</th>\n",
       "      <td>...</td>\n",
       "      <td>...</td>\n",
       "      <td>...</td>\n",
       "      <td>...</td>\n",
       "      <td>...</td>\n",
       "      <td>...</td>\n",
       "      <td>...</td>\n",
       "      <td>...</td>\n",
       "      <td>...</td>\n",
       "    </tr>\n",
       "    <tr>\n",
       "      <th>3177</th>\n",
       "      <td>11606</td>\n",
       "      <td>King County (Northwest)--Shoreline, Kenmore &amp; ...</td>\n",
       "      <td>2017001491175</td>\n",
       "      <td>01</td>\n",
       "      <td>19.0</td>\n",
       "      <td>2</td>\n",
       "      <td>20</td>\n",
       "      <td>6</td>\n",
       "      <td>1.0</td>\n",
       "    </tr>\n",
       "    <tr>\n",
       "      <th>3178</th>\n",
       "      <td>11613</td>\n",
       "      <td>King County (Southwest Central)--Kent City    ...</td>\n",
       "      <td>2017001530818</td>\n",
       "      <td>01</td>\n",
       "      <td>23.0</td>\n",
       "      <td>1</td>\n",
       "      <td>21</td>\n",
       "      <td>1</td>\n",
       "      <td>26.0</td>\n",
       "    </tr>\n",
       "    <tr>\n",
       "      <th>3179</th>\n",
       "      <td>11606</td>\n",
       "      <td>King County (Northwest)--Shoreline, Kenmore &amp; ...</td>\n",
       "      <td>2017001511157</td>\n",
       "      <td>01</td>\n",
       "      <td>18.0</td>\n",
       "      <td>2</td>\n",
       "      <td>18</td>\n",
       "      <td>6</td>\n",
       "      <td>1.0</td>\n",
       "    </tr>\n",
       "    <tr>\n",
       "      <th>3180</th>\n",
       "      <td>11613</td>\n",
       "      <td>King County (Southwest Central)--Kent City    ...</td>\n",
       "      <td>2017001518359</td>\n",
       "      <td>01</td>\n",
       "      <td>18.0</td>\n",
       "      <td>1</td>\n",
       "      <td>11</td>\n",
       "      <td>6</td>\n",
       "      <td>20.0</td>\n",
       "    </tr>\n",
       "    <tr>\n",
       "      <th>3181</th>\n",
       "      <td>11606</td>\n",
       "      <td>King County (Northwest)--Shoreline, Kenmore &amp; ...</td>\n",
       "      <td>2017001526134</td>\n",
       "      <td>01</td>\n",
       "      <td>18.0</td>\n",
       "      <td>2</td>\n",
       "      <td>18</td>\n",
       "      <td>3</td>\n",
       "      <td>1.0</td>\n",
       "    </tr>\n",
       "  </tbody>\n",
       "</table>\n",
       "<p>3182 rows × 9 columns</p>\n",
       "</div>"
      ],
      "text/plain": [
       "       puma                                          puma_name       serialno  \\\n",
       "0     11606  King County (Northwest)--Shoreline, Kenmore & ...  2013000003218   \n",
       "1     11606  King County (Northwest)--Shoreline, Kenmore & ...  2013000003218   \n",
       "2     11612  King County (Far Southwest)--Federal Way, Des ...  2013000007063   \n",
       "3     11613  King County (Southwest Central)--Kent City    ...  2013000008046   \n",
       "4     11614  King County (Southwest)--Auburn City & Lakelan...  2013000011255   \n",
       "...     ...                                                ...            ...   \n",
       "3177  11606  King County (Northwest)--Shoreline, Kenmore & ...  2017001491175   \n",
       "3178  11613  King County (Southwest Central)--Kent City    ...  2017001530818   \n",
       "3179  11606  King County (Northwest)--Shoreline, Kenmore & ...  2017001511157   \n",
       "3180  11613  King County (Southwest Central)--Kent City    ...  2017001518359   \n",
       "3181  11606  King County (Northwest)--Shoreline, Kenmore & ...  2017001526134   \n",
       "\n",
       "     sporder  agep sch schl esr  pwgtp  \n",
       "0         01  21.0   3   19   1   14.0  \n",
       "1         02  21.0   1   16   1   15.0  \n",
       "2         02  19.0   2   18   6   30.0  \n",
       "3         02  17.0   2   13   6   36.0  \n",
       "4         02  17.0   2   12   6   13.0  \n",
       "...      ...   ...  ..  ...  ..    ...  \n",
       "3177      01  19.0   2   20   6    1.0  \n",
       "3178      01  23.0   1   21   1   26.0  \n",
       "3179      01  18.0   2   18   6    1.0  \n",
       "3180      01  18.0   1   11   6   20.0  \n",
       "3181      01  18.0   2   18   3    1.0  \n",
       "\n",
       "[3182 rows x 9 columns]"
      ]
     },
     "execution_count": 4,
     "metadata": {},
     "output_type": "execute_result"
    }
   ],
   "source": [
    "# Creating a filtered data fram for youth in South King County Washington\n",
    "# Filter puma_names_2010 to King County in Washington\n",
    "# Filter pums_2017 for ages between 16 and 25\n",
    "# Join pums_2017 with filtered puma_names_2010\n",
    "# SQL query with info for puma, person, age, education, and work\n",
    "# Column info:\n",
    "    # PUMA          Public use microdata area code\n",
    "    # puma_name     County, city, location\n",
    "    # SERIALNO      Housing unit/GQ person serial number\n",
    "    # sporder       Which person in housing unit\n",
    "    # agep          Age\n",
    "    # sch           school enrollment (1 = has not attended in last 3 months)\n",
    "    # schl          Education level\n",
    "    # esr           Employment status\n",
    "\n",
    "df_weight = pd.read_sql(\"\"\" SELECT puma, puma_name, serialno, sporder, agep, sch, schl, esr, pwgtp\n",
    "                    FROM puma_names_2010 pn\n",
    "                    JOIN pums_2017 pms\n",
    "                    USING (puma)\n",
    "                    WHERE state_name LIKE 'Washington%'\n",
    "                    AND puma_name LIKE 'King%'\n",
    "                     AND puma_name LIKE '%South%'\n",
    "                    AND agep BETWEEN 15.9 AND 25.0\n",
    "                    ;\"\"\", conn)\n",
    "\n",
    "df_weight"
   ]
  },
  {
   "cell_type": "markdown",
   "metadata": {},
   "source": []
  },
  {
   "cell_type": "code",
   "execution_count": 5,
   "metadata": {},
   "outputs": [],
   "source": [
    "#Function that expands the table from 2878 rows to 68347 using pwgtp to account for the weights\n",
    "def duplicate_rows(df, countcol):\n",
    "    for _, row in df.iterrows():\n",
    "        for i in range(int(row[countcol])-1):\n",
    "            # Append this row at the end of the DataFrame\n",
    "            df = df.append(row)\n",
    "\n",
    "    # Remove countcol (could do a drop too to do that...)\n",
    "    notcountcols = [x for x in df.columns if x != countcol]\n",
    "    df = df[notcountcols]\n",
    "    # optional: sort it by index\n",
    "    df.sort_index(inplace=True)\n",
    "    return df"
   ]
  },
  {
   "cell_type": "code",
   "execution_count": 6,
   "metadata": {},
   "outputs": [],
   "source": [
    "#**WARNING: THIS CELL MAY TAKE 15 MIN TO RUN**\n",
    "#Runs the function that duplicates the table\n",
    "df_dup = duplicate_rows(df_weight, 'pwgtp')\n",
    "df_dup = df_dup.reset_index()"
   ]
  },
  {
   "cell_type": "markdown",
   "metadata": {},
   "source": []
  },
  {
   "cell_type": "code",
   "execution_count": 7,
   "metadata": {},
   "outputs": [],
   "source": [
    "#Code to add Educational Groups\n",
    "def school_range (schl):\n",
    "    if int(schl) < 15: return \"No diploma\"\n",
    "    elif int(schl) < 17: return \"HS diploma or GED\"\n",
    "    elif int(schl) < 19: return \"Some College, no degree\"\n",
    "    elif int(schl) < 25: return \"Degree (Associate or higher)\"\n",
    "    else: return \"Unknown\"\n",
    "df_dup[\"School_Level\"]= df_dup.schl.apply(school_range)"
   ]
  },
  {
   "cell_type": "code",
   "execution_count": 8,
   "metadata": {},
   "outputs": [],
   "source": [
    "#Code to add OY_Status\n",
    "def Y_Status (esr, sch):\n",
    "    if (int(esr) == 3 or int(esr) == 6) and int(sch) == 1: return \"Opportunity Youth\"\n",
    "    elif (int(esr) == 1 or int(esr) == 2 or int(esr) == 4 or int(esr) == 5) and int(sch) <= 15: return \"Working without Diploma\"\n",
    "    else: return \"Not Opportunity Youth\"\n",
    "df_dup[\"OY_Status\"] = df_dup.apply(lambda x: Y_Status(x[\"esr\"], x[\"sch\"]), axis=1)"
   ]
  },
  {
   "cell_type": "code",
   "execution_count": 281,
   "metadata": {},
   "outputs": [],
   "source": [
    "def Y_Status (esr, sch):\n",
    "    if (int(esr) == 3 or int(esr) == 6) and int(sch) == 1: return \"Opportunity Youth\"\n",
    "    else: return \"Not Opportunity Youth\"\n",
    "df_dup[\"Is_OY\"] = df_dup.apply(lambda x: Y_Status(x[\"esr\"], x[\"sch\"]), axis=1)"
   ]
  },
  {
   "cell_type": "code",
   "execution_count": 282,
   "metadata": {},
   "outputs": [],
   "source": [
    "#Code that adds Age_Group and groups ages into bins\n",
    "df_dup['Age_Group'] = pd.cut(x=df_dup['agep'], bins=[16, 18, 21, 24], labels=['16-18', '19-21', '21-24'])"
   ]
  },
  {
   "cell_type": "code",
   "execution_count": 283,
   "metadata": {},
   "outputs": [],
   "source": [
    "#adds Total_Population column that takes the total population of each age group\n",
    "df_dup[\"Total_Populations\"]=df_dup.groupby(\"Age_Group\")[\"Age_Group\"].transform(\"count\")\n",
    "df_dup[\"OY_Status_Counts\"]=df_dup.groupby(\"OY_Status\")[\"OY_Status\"].transform(\"count\")"
   ]
  },
  {
   "cell_type": "code",
   "execution_count": 284,
   "metadata": {},
   "outputs": [],
   "source": [
    "#Sets up a new dataframe to filter for Oppurtinuty Youth\n",
    "df_chart = df_dup\n",
    "df_chart['schl'] = df_chart['schl'].astype(float)\n",
    "#\n",
    "#Creates a dataframe of df_dup2 that is only Opportunity Youth\n",
    "oy_chart = df_dup.loc[df_dup[\"Is_OY\"] == \"Opportunity Youth\"]\n",
    "#Creates a dataframe of df_dp2 that is everyone not an Opportunity You\n",
    "noy_chart = df_dup.loc[df_dup[\"Is_OY\"] == \"Not Opportunity Youth\"]"
   ]
  },
  {
   "cell_type": "code",
   "execution_count": 285,
   "metadata": {},
   "outputs": [],
   "source": [
    "#function that adds percentage of total to column\n",
    "def add_perc_to_column(df, column_n, total):\n",
    "    df[column_n] = (round(df[column_n]/total*100)).astype(str) + \"% : \" + (df[column_n]).astype(str)"
   ]
  },
  {
   "cell_type": "code",
   "execution_count": 286,
   "metadata": {
    "scrolled": true
   },
   "outputs": [],
   "source": [
    "#Level of Education by Age\n",
    "#Group by and count by age group and education level\n",
    "oy_chart.sort_values([\"School_Level\"])\n",
    "totals = oy_chart.groupby([\"School_Level\"])[\"Total_Populations\"].count()\n",
    "grouper = oy_chart.groupby([\"Age_Group\", \"School_Level\"], as_index=False).count()\n",
    "total_pop = totals.sum()"
   ]
  },
  {
   "cell_type": "code",
   "execution_count": 287,
   "metadata": {},
   "outputs": [
    {
     "data": {
      "text/html": [
       "<div>\n",
       "<style scoped>\n",
       "    .dataframe tbody tr th:only-of-type {\n",
       "        vertical-align: middle;\n",
       "    }\n",
       "\n",
       "    .dataframe tbody tr th {\n",
       "        vertical-align: top;\n",
       "    }\n",
       "\n",
       "    .dataframe thead th {\n",
       "        text-align: right;\n",
       "    }\n",
       "</style>\n",
       "<table border=\"1\" class=\"dataframe\">\n",
       "  <thead>\n",
       "    <tr style=\"text-align: right;\">\n",
       "      <th>Age_Group</th>\n",
       "      <th>16-18</th>\n",
       "      <th>19-21</th>\n",
       "      <th>21-24</th>\n",
       "      <th>Total</th>\n",
       "    </tr>\n",
       "    <tr>\n",
       "      <th>School_Level</th>\n",
       "      <th></th>\n",
       "      <th></th>\n",
       "      <th></th>\n",
       "      <th></th>\n",
       "    </tr>\n",
       "  </thead>\n",
       "  <tbody>\n",
       "    <tr>\n",
       "      <th>Degree (Associate or higher)</th>\n",
       "      <td>19</td>\n",
       "      <td>341</td>\n",
       "      <td>812</td>\n",
       "      <td>1172</td>\n",
       "    </tr>\n",
       "    <tr>\n",
       "      <th>HS diploma or GED</th>\n",
       "      <td>621</td>\n",
       "      <td>1737</td>\n",
       "      <td>1461</td>\n",
       "      <td>3819</td>\n",
       "    </tr>\n",
       "    <tr>\n",
       "      <th>No diploma</th>\n",
       "      <td>464</td>\n",
       "      <td>560</td>\n",
       "      <td>531</td>\n",
       "      <td>1555</td>\n",
       "    </tr>\n",
       "    <tr>\n",
       "      <th>Some College, no degree</th>\n",
       "      <td>13</td>\n",
       "      <td>131</td>\n",
       "      <td>567</td>\n",
       "      <td>711</td>\n",
       "    </tr>\n",
       "    <tr>\n",
       "      <th>Total</th>\n",
       "      <td>1117</td>\n",
       "      <td>2769</td>\n",
       "      <td>3371</td>\n",
       "      <td>7257</td>\n",
       "    </tr>\n",
       "  </tbody>\n",
       "</table>\n",
       "</div>"
      ],
      "text/plain": [
       "Age_Group                     16-18  19-21  21-24  Total\n",
       "School_Level                                            \n",
       "Degree (Associate or higher)     19    341    812   1172\n",
       "HS diploma or GED               621   1737   1461   3819\n",
       "No diploma                      464    560    531   1555\n",
       "Some College, no degree          13    131    567    711\n",
       "Total                          1117   2769   3371   7257"
      ]
     },
     "execution_count": 287,
     "metadata": {},
     "output_type": "execute_result"
    }
   ],
   "source": [
    "#Creates School Level Pivot\n",
    "#Cannot find a way to add percentage of population without doing pivot table in excel\n",
    "sch_piv= pd.pivot_table(data = grouper, index=\"School_Level\", columns=\"Age_Group\", values=\"Total_Populations\",\n",
    "                       aggfunc = \"sum\", margins_name=\"Total\", margins=True)\n",
    "sch_piv"
   ]
  },
  {
   "cell_type": "code",
   "execution_count": 288,
   "metadata": {
    "scrolled": true
   },
   "outputs": [
    {
     "data": {
      "text/html": [
       "<div>\n",
       "<style scoped>\n",
       "    .dataframe tbody tr th:only-of-type {\n",
       "        vertical-align: middle;\n",
       "    }\n",
       "\n",
       "    .dataframe tbody tr th {\n",
       "        vertical-align: top;\n",
       "    }\n",
       "\n",
       "    .dataframe thead th {\n",
       "        text-align: right;\n",
       "    }\n",
       "</style>\n",
       "<table border=\"1\" class=\"dataframe\">\n",
       "  <thead>\n",
       "    <tr style=\"text-align: right;\">\n",
       "      <th></th>\n",
       "      <th>16-18</th>\n",
       "      <th>19-21</th>\n",
       "      <th>21-24</th>\n",
       "      <th>Total</th>\n",
       "    </tr>\n",
       "    <tr>\n",
       "      <th>School_Level</th>\n",
       "      <th></th>\n",
       "      <th></th>\n",
       "      <th></th>\n",
       "      <th></th>\n",
       "    </tr>\n",
       "  </thead>\n",
       "  <tbody>\n",
       "    <tr>\n",
       "      <th>Degree (Associate or higher)</th>\n",
       "      <td>0.0% : 19</td>\n",
       "      <td>5.0% : 341</td>\n",
       "      <td>11.0% : 812</td>\n",
       "      <td>16.0% : 1172</td>\n",
       "    </tr>\n",
       "    <tr>\n",
       "      <th>HS diploma or GED</th>\n",
       "      <td>9.0% : 621</td>\n",
       "      <td>24.0% : 1737</td>\n",
       "      <td>20.0% : 1461</td>\n",
       "      <td>53.0% : 3819</td>\n",
       "    </tr>\n",
       "    <tr>\n",
       "      <th>No diploma</th>\n",
       "      <td>6.0% : 464</td>\n",
       "      <td>8.0% : 560</td>\n",
       "      <td>7.0% : 531</td>\n",
       "      <td>21.0% : 1555</td>\n",
       "    </tr>\n",
       "    <tr>\n",
       "      <th>Some College, no degree</th>\n",
       "      <td>0.0% : 13</td>\n",
       "      <td>2.0% : 131</td>\n",
       "      <td>8.0% : 567</td>\n",
       "      <td>10.0% : 711</td>\n",
       "    </tr>\n",
       "    <tr>\n",
       "      <th>Total</th>\n",
       "      <td>15.0% : 1117</td>\n",
       "      <td>38.0% : 2769</td>\n",
       "      <td>46.0% : 3371</td>\n",
       "      <td>100.0% : 7257</td>\n",
       "    </tr>\n",
       "  </tbody>\n",
       "</table>\n",
       "</div>"
      ],
      "text/plain": [
       "                                     16-18         19-21         21-24  \\\n",
       "School_Level                                                             \n",
       "Degree (Associate or higher)     0.0% : 19    5.0% : 341   11.0% : 812   \n",
       "HS diploma or GED               9.0% : 621  24.0% : 1737  20.0% : 1461   \n",
       "No diploma                      6.0% : 464    8.0% : 560    7.0% : 531   \n",
       "Some College, no degree          0.0% : 13    2.0% : 131    8.0% : 567   \n",
       "Total                         15.0% : 1117  38.0% : 2769  46.0% : 3371   \n",
       "\n",
       "                                      Total  \n",
       "School_Level                                 \n",
       "Degree (Associate or higher)   16.0% : 1172  \n",
       "HS diploma or GED              53.0% : 3819  \n",
       "No diploma                     21.0% : 1555  \n",
       "Some College, no degree         10.0% : 711  \n",
       "Total                         100.0% : 7257  "
      ]
     },
     "execution_count": 288,
     "metadata": {},
     "output_type": "execute_result"
    }
   ],
   "source": [
    "#Converts to Data Frame and adds percent of population\n",
    "sch_piv_df = pd.DataFrame(sch_piv.to_records()).set_index('School_Level')\n",
    "sch_piv_perc_df = sch_piv_df.copy()\n",
    "[add_perc_to_column(sch_piv_perc_df, c, total_pop) for c in sch_piv_perc_df.columns]\n",
    "sch_piv_perc_df"
   ]
  },
  {
   "cell_type": "code",
   "execution_count": 289,
   "metadata": {},
   "outputs": [],
   "source": [
    "##Opportunity Youth Status by Age\n",
    "#Group by and count by age group and OY Status\n",
    "df_dup.sort_values([\"Age_Group\"])\n",
    "totals_by_group = df_dup.groupby([\"OY_Status\"])[\"Total_Populations\"].count()\n",
    "grouper_oy = df_dup.groupby([\"Age_Group\", \"OY_Status\"], as_index=False).count()\n",
    "total_pop = totals_by_group.sum()\n",
    "\n",
    "#Creates OY_Status Pivot Table with Totals\n",
    "#Cannot find a way to add percentage of population without doing pivot table in excel\n",
    "oy_piv=pd.pivot_table(data=grouper_oy, index=\"OY_Status\", columns=\"Age_Group\", values=\"Total_Populations\",\n",
    "                      aggfunc = \"sum\", margins_name=\"Total\", margins=True)"
   ]
  },
  {
   "cell_type": "code",
   "execution_count": 290,
   "metadata": {},
   "outputs": [
    {
     "data": {
      "text/html": [
       "<div>\n",
       "<style scoped>\n",
       "    .dataframe tbody tr th:only-of-type {\n",
       "        vertical-align: middle;\n",
       "    }\n",
       "\n",
       "    .dataframe tbody tr th {\n",
       "        vertical-align: top;\n",
       "    }\n",
       "\n",
       "    .dataframe thead th {\n",
       "        text-align: right;\n",
       "    }\n",
       "</style>\n",
       "<table border=\"1\" class=\"dataframe\">\n",
       "  <thead>\n",
       "    <tr style=\"text-align: right;\">\n",
       "      <th></th>\n",
       "      <th>16-18</th>\n",
       "      <th>19-21</th>\n",
       "      <th>21-24</th>\n",
       "      <th>Total</th>\n",
       "    </tr>\n",
       "    <tr>\n",
       "      <th>OY_Status</th>\n",
       "      <th></th>\n",
       "      <th></th>\n",
       "      <th></th>\n",
       "      <th></th>\n",
       "    </tr>\n",
       "  </thead>\n",
       "  <tbody>\n",
       "    <tr>\n",
       "      <th>Not Opportunity Youth</th>\n",
       "      <td>17.0% : 10298</td>\n",
       "      <td>9.0% : 5592</td>\n",
       "      <td>4.0% : 2363</td>\n",
       "      <td>30.0% : 18253</td>\n",
       "    </tr>\n",
       "    <tr>\n",
       "      <th>Opportunity Youth</th>\n",
       "      <td>2.0% : 1117</td>\n",
       "      <td>5.0% : 2769</td>\n",
       "      <td>6.0% : 3371</td>\n",
       "      <td>12.0% : 7257</td>\n",
       "    </tr>\n",
       "    <tr>\n",
       "      <th>Working without Diploma</th>\n",
       "      <td>8.0% : 4895</td>\n",
       "      <td>21.0% : 12349</td>\n",
       "      <td>29.0% : 17253</td>\n",
       "      <td>57.0% : 34497</td>\n",
       "    </tr>\n",
       "    <tr>\n",
       "      <th>Total</th>\n",
       "      <td>27.0% : 16310</td>\n",
       "      <td>35.0% : 20710</td>\n",
       "      <td>38.0% : 22987</td>\n",
       "      <td>100.0% : 60007</td>\n",
       "    </tr>\n",
       "  </tbody>\n",
       "</table>\n",
       "</div>"
      ],
      "text/plain": [
       "                                 16-18          19-21          21-24  \\\n",
       "OY_Status                                                              \n",
       "Not Opportunity Youth    17.0% : 10298    9.0% : 5592    4.0% : 2363   \n",
       "Opportunity Youth          2.0% : 1117    5.0% : 2769    6.0% : 3371   \n",
       "Working without Diploma    8.0% : 4895  21.0% : 12349  29.0% : 17253   \n",
       "Total                    27.0% : 16310  35.0% : 20710  38.0% : 22987   \n",
       "\n",
       "                                  Total  \n",
       "OY_Status                                \n",
       "Not Opportunity Youth     30.0% : 18253  \n",
       "Opportunity Youth          12.0% : 7257  \n",
       "Working without Diploma   57.0% : 34497  \n",
       "Total                    100.0% : 60007  "
      ]
     },
     "execution_count": 290,
     "metadata": {},
     "output_type": "execute_result"
    }
   ],
   "source": [
    "#Converts to Data Frame and adds percent of population\n",
    "oy_piv_df = pd.DataFrame(oy_piv.to_records()).set_index('OY_Status')\n",
    "oy_piv_perc_df = oy_piv_df.copy()\n",
    "[add_perc_to_column(oy_piv_perc_df, c, total_pop) for c in oy_piv_perc_df.columns]\n",
    "oy_piv_perc_df"
   ]
  },
  {
   "cell_type": "code",
   "execution_count": 291,
   "metadata": {
    "scrolled": false
   },
   "outputs": [],
   "source": [
    "#Create data fram from csv of 2016 data\n",
    "#Add Opportunity row\n",
    "old_oy = pd.read_csv('src/data/csv_files/oy_csv.csv')\n",
    "old_oy = pd.DataFrame(old_oy)\n",
    "old_oy = old_oy.set_index('op_youth', drop=True)\n",
    "\n",
    "sch_oy_df=sch_piv_df.append(oy_piv_df[1:2]).reindex([\"Opportunity Youth\", \"No diploma\", \"HS diploma or GED\", \"Some College, no degree\", \"Degree (Associate or higher)\"])"
   ]
  },
  {
   "cell_type": "code",
   "execution_count": null,
   "metadata": {},
   "outputs": [],
   "source": []
  },
  {
   "cell_type": "code",
   "execution_count": 314,
   "metadata": {
    "scrolled": false
   },
   "outputs": [
    {
     "data": {
      "image/png": "[encoded data removed]",
      "text/plain": [
       "<Figure size 720x288 with 2 Axes>"
      ]
     },
     "metadata": {
      "needs_background": "light"
     },
     "output_type": "display_data"
    }
   ],
   "source": [
    "fig, ax = plt.subplots(1,2, figsize = (10,4))\n",
    "fig.tight_layout(pad=5)\n",
    "\n",
    "ax[0].plot(old_oy.index, old_oy.values)\n",
    "ax[0].set_title('2016 OY and School Status');\n",
    "\n",
    "ax[1].plot(sch_oy_df.index, sch_oy_df.values)\n",
    "ax[1].set_title('2017 OY and School Status');\n",
    "\n",
    "for ax in fig.axes:\n",
    "    plt.sca(ax)\n",
    "    plt.xticks(rotation=45)\n",
    "    plt.legend(['16-18', '19-21', '21-24', 'Total'])\n"
   ]
  },
  {
   "cell_type": "code",
   "execution_count": 20,
   "metadata": {},
   "outputs": [],
   "source": [
    "#Read in shape file for geo data\n",
    "gdf = gpd.read_file(\"src/data/shapefiles/ipums_puma_2010.shp\")"
   ]
  },
  {
   "cell_type": "code",
   "execution_count": 21,
   "metadata": {},
   "outputs": [],
   "source": [
    "#Extract Washington, King County, and South King County\n",
    "gdf[\"PUMA\"] = gdf[\"PUMA\"].astype(str).astype(int)\n",
    "washington_map = gdf[(gdf['State']=='Washington')]\n",
    "greater_king_co_map= gdf[(gdf.PUMA >= 11606) & (gdf.PUMA <= 11616)]\n",
    "south_king_co_map=gdf[(gdf.PUMA >= 11612) & (gdf.PUMA <= 11615)]"
   ]
  },
  {
   "cell_type": "code",
   "execution_count": 22,
   "metadata": {},
   "outputs": [
    {
     "data": {
      "image/png": "[encoded data removed]",
      "text/plain": [
       "<Figure size 432x288 with 2 Axes>"
      ]
     },
     "metadata": {
      "needs_background": "light"
     },
     "output_type": "display_data"
    }
   ],
   "source": [
    "#Create a cloropeth of pumas in King County\n",
    "fig, ax=plt.subplots()\n",
    "greater_king_co_map.plot(column='PUMA',ax=ax, legend = True, legend_kwds={'label': \"King County\"})\n",
    "plt.show()"
   ]
  },
  {
   "cell_type": "code",
   "execution_count": 150,
   "metadata": {},
   "outputs": [
    {
     "data": {
      "image/png": "[encoded data removed]",
      "text/plain": [
       "<Figure size 432x288 with 1 Axes>"
      ]
     },
     "metadata": {
      "needs_background": "light"
     },
     "output_type": "display_data"
    }
   ],
   "source": [
    "#Create a cloropeth of pumas in South King County\n",
    "fig, ax=plt.subplots()\n",
    "# washington_map.plot(ax=ax, color='grey',alpha = .1, zorder=1)\n",
    "greater_king_co_map.plot(ax=ax, color='grey',alpha = .3, zorder=1);\n",
    "south_king_co_map.plot(ax=ax, column = 'PUMA', cmap='cool', zorder= 2)\n",
    "plt.title('South King County Areas')\n",
    "plt.axis('off')\n",
    "plt.show()\n"
   ]
  },
  {
   "cell_type": "code",
   "execution_count": null,
   "metadata": {},
   "outputs": [],
   "source": []
  }
 ],
 "metadata": {
  "kernelspec": {
   "display_name": "Python (oy-env)",
   "language": "python",
   "name": "oy-env"
  },
  "language_info": {
   "codemirror_mode": {
    "name": "ipython",
    "version": 3
   },
   "file_extension": ".py",
   "mimetype": "text/x-python",
   "name": "python",
   "nbconvert_exporter": "python",
   "pygments_lexer": "ipython3",
   "version": "3.8.2"
  }
 },
 "nbformat": 4,
 "nbformat_minor": 4
}
